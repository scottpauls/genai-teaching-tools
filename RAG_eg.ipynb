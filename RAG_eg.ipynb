{
  "nbformat": 4,
  "nbformat_minor": 0,
  "metadata": {
    "colab": {
      "provenance": [],
      "authorship_tag": "ABX9TyP7iqMZTh1qLzlFjgbkcxpy",
      "include_colab_link": true
    },
    "kernelspec": {
      "name": "python3",
      "display_name": "Python 3"
    },
    "language_info": {
      "name": "python"
    }
  },
  "cells": [
    {
      "cell_type": "markdown",
      "metadata": {
        "id": "view-in-github",
        "colab_type": "text"
      },
      "source": [
        "<a href=\"https://colab.research.google.com/github/scottpauls/genai-teaching-tools/blob/main/RAG_eg.ipynb\" target=\"_parent\"><img src=\"https://colab.research.google.com/assets/colab-badge.svg\" alt=\"Open In Colab\"/></a>"
      ]
    },
    {
      "cell_type": "code",
      "source": [
        "%%capture\n",
        "!pip install openai==1.55.3 httpx==0.27.2 --force-reinstall --quiet"
      ],
      "metadata": {
        "id": "bTgNlXn_RNzr"
      },
      "execution_count": 1,
      "outputs": []
    },
    {
      "cell_type": "code",
      "source": [
        "import os\n",
        "os.kill(os.getpid(), 9)"
      ],
      "metadata": {
        "id": "y-HJntR_RR8g"
      },
      "execution_count": null,
      "outputs": []
    },
    {
      "cell_type": "code",
      "source": [
        "# prompt: Write minimal code using langchain for a RAG pipeline that reads data from a list of files\n",
        "!pip install faiss-cpu\n",
        "import os\n",
        "from langchain.document_loaders import TextLoader\n",
        "from langchain.text_splitter import CharacterTextSplitter\n",
        "from langchain.embeddings import OpenAIEmbeddings\n",
        "from langchain.vectorstores import FAISS\n",
        "from langchain.chains import RetrievalQA\n",
        "from langchain.llms import OpenAI\n",
        "from google.colab import userdata\n",
        "\n",
        "# Replace with your actual file paths\n",
        "file_paths = [\"/content/text files/txt1.txt\"]\n",
        "\n",
        "# Load documents\n",
        "documents = []\n",
        "for file_path in file_paths:\n",
        "    loader = TextLoader(file_path)\n",
        "    documents.extend(loader.load())\n",
        "\n",
        "# Split documents\n",
        "text_splitter = CharacterTextSplitter(chunk_size=1000, chunk_overlap=0)\n",
        "texts = text_splitter.split_documents(documents)\n",
        "\n",
        "# Create embeddings and vectorstore\n",
        "# Get the API key from the environment variable or prompt the user\n",
        "import getpass\n",
        "OPENAI_API_KEY = os.environ.get(\"OPENAI_API_KEY\")\n",
        "if OPENAI_API_KEY is None:\n",
        "    OPENAI_API_KEY = getpass.getpass(\"Enter your OpenAI API key: \")\n",
        "    os.environ[\"OPENAI_API_KEY\"] = OPENAI_API_KEY #Set the key in the environment variable.\n",
        "embeddings = OpenAIEmbeddings(openai_api_key=OPENAI_API_KEY) #Pass the key directly to OpenAIEmbeddings\n",
        "db = FAISS.from_documents(texts, embeddings)\n",
        "\n",
        "# Create retrieval QA chain\n",
        "qa = RetrievalQA.from_chain_type(llm=OpenAI(openai_api_key=OPENAI_API_KEY), chain_type=\"stuff\", retriever=db.as_retriever()) #Pass the key to OpenAI\n",
        "\n",
        "# Example query\n",
        "query = \"What is the main topic of these files?\"\n",
        "result = qa.run(query)\n",
        "result"
      ],
      "metadata": {
        "id": "ctfGv_9PSOuQ",
        "outputId": "054b0e26-5fc8-41a3-afe4-be1011971a3f",
        "colab": {
          "base_uri": "https://localhost:8080/",
          "height": 275
        }
      },
      "execution_count": 5,
      "outputs": [
        {
          "output_type": "stream",
          "name": "stdout",
          "text": [
            "Collecting faiss-cpu\n",
            "  Downloading faiss_cpu-1.9.0.post1-cp310-cp310-manylinux_2_17_x86_64.manylinux2014_x86_64.whl.metadata (4.4 kB)\n",
            "Requirement already satisfied: numpy<3.0,>=1.25.0 in /usr/local/lib/python3.10/dist-packages (from faiss-cpu) (1.26.4)\n",
            "Requirement already satisfied: packaging in /usr/local/lib/python3.10/dist-packages (from faiss-cpu) (24.2)\n",
            "Downloading faiss_cpu-1.9.0.post1-cp310-cp310-manylinux_2_17_x86_64.manylinux2014_x86_64.whl (27.5 MB)\n",
            "\u001b[2K   \u001b[90m━━━━━━━━━━━━━━━━━━━━━━━━━━━━━━━━━━━━━━━━\u001b[0m \u001b[32m27.5/27.5 MB\u001b[0m \u001b[31m43.4 MB/s\u001b[0m eta \u001b[36m0:00:00\u001b[0m\n",
            "\u001b[?25hInstalling collected packages: faiss-cpu\n",
            "Successfully installed faiss-cpu-1.9.0.post1\n"
          ]
        },
        {
          "output_type": "stream",
          "name": "stderr",
          "text": [
            "<ipython-input-5-cd96848ccd8e>:36: LangChainDeprecationWarning: The class `OpenAI` was deprecated in LangChain 0.0.10 and will be removed in 1.0. An updated version of the class exists in the :class:`~langchain-openai package and should be used instead. To use it run `pip install -U :class:`~langchain-openai` and import as `from :class:`~langchain_openai import OpenAI``.\n",
            "  qa = RetrievalQA.from_chain_type(llm=OpenAI(openai_api_key=OPENAI_API_KEY), chain_type=\"stuff\", retriever=db.as_retriever()) #Pass the key to OpenAI\n",
            "<ipython-input-5-cd96848ccd8e>:40: LangChainDeprecationWarning: The method `Chain.run` was deprecated in langchain 0.1.0 and will be removed in 1.0. Use :meth:`~invoke` instead.\n",
            "  result = qa.run(query)\n"
          ]
        },
        {
          "output_type": "execute_result",
          "data": {
            "text/plain": [
              "' The main topic of these files is teaching and learning principles.'"
            ],
            "application/vnd.google.colaboratory.intrinsic+json": {
              "type": "string"
            }
          },
          "metadata": {},
          "execution_count": 5
        }
      ]
    },
    {
      "cell_type": "code",
      "source": [
        "query = \"How can I change my teaching to be more effective?\"\n",
        "result = qa.run(query)\n",
        "result"
      ],
      "metadata": {
        "id": "j8wrO-c5SiGu",
        "outputId": "95f9a792-0eae-47a3-9baf-cb3ed51c9101",
        "colab": {
          "base_uri": "https://localhost:8080/",
          "height": 164
        }
      },
      "execution_count": 6,
      "outputs": [
        {
          "output_type": "execute_result",
          "data": {
            "text/plain": [
              "' According to the given principles, effective teaching involves acquiring knowledge about students, aligning learning objectives and assessments, articulating expectations, prioritizing knowledge and skills, recognizing and overcoming blind spots, adopting appropriate teaching roles, and continuously refining courses through reflection and feedback. Therefore, to become a more effective teacher, you can try to gather information about your students, align your teaching components, set clear expectations, prioritize important concepts, be aware of your own biases, adjust your teaching approach, and actively seek feedback from students. '"
            ],
            "application/vnd.google.colaboratory.intrinsic+json": {
              "type": "string"
            }
          },
          "metadata": {},
          "execution_count": 6
        }
      ]
    }
  ]
}